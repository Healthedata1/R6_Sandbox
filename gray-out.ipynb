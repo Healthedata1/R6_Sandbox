{
 "cells": [
  {
   "cell_type": "code",
   "execution_count": 44,
   "id": "320f4c46",
   "metadata": {},
   "outputs": [],
   "source": [
    "from pathlib import Path"
   ]
  },
  {
   "cell_type": "markdown",
   "id": "f4fd22bd",
   "metadata": {},
   "source": [
    "### Define the directory containing the Markdown files"
   ]
  },
  {
   "cell_type": "code",
   "execution_count": 45,
   "id": "516f50e9",
   "metadata": {},
   "outputs": [
    {
     "data": {
      "text/plain": [
       "'intro-notes'"
      ]
     },
     "execution_count": 45,
     "metadata": {},
     "output_type": "execute_result"
    }
   ],
   "source": [
    "directory = Path(\"/Users/ehaas/Documents/FHIR/US-Core/input/intro-notes\") # Adjust to your directory, e.g., \"_posts\" for Jekyll posts\n",
    "directory.name"
   ]
  },
  {
   "cell_type": "markdown",
   "id": "cc1c52b3",
   "metadata": {},
   "source": [
    "### Cbange restore to \"True\" to undo gray-out"
   ]
  },
  {
   "cell_type": "code",
   "execution_count": null,
   "id": "772d9692",
   "metadata": {},
   "outputs": [],
   "source": [
    "restore = False"
   ]
  },
  {
   "cell_type": "markdown",
   "id": "06306c41",
   "metadata": {},
   "source": [
    "### Define the inline CSS style and div wrapper"
   ]
  },
  {
   "cell_type": "code",
   "execution_count": 47,
   "id": "c017cd1e",
   "metadata": {},
   "outputs": [
    {
     "data": {
      "text/plain": [
       "('{% include grayed-out.html %}', '\\n</div><!-- grayed-out -->')"
      ]
     },
     "execution_count": 47,
     "metadata": {},
     "output_type": "execute_result"
    }
   ],
   "source": [
    "style_content = \"{% include grayed-out.html %}\"\n",
    "style_end = \"\\n</div><!-- grayed-out -->\"\n",
    "style_content, style_end"
   ]
  },
  {
   "cell_type": "markdown",
   "id": "3ea600e7",
   "metadata": {},
   "source": [
    "### Iterate through all Markdown files in the directory"
   ]
  },
  {
   "cell_type": "code",
   "execution_count": 48,
   "id": "510894c2",
   "metadata": {},
   "outputs": [
    {
     "name": "stdout",
     "output_type": "stream",
     "text": [
      "Restored /Users/ehaas/Documents/FHIR/US-Core/input/intro-notes/StructureDefinition-us-core-vital-signs-notes.md\n",
      "Restored /Users/ehaas/Documents/FHIR/US-Core/input/intro-notes/StructureDefinition-us-core-race-intro.md\n",
      "Restored /Users/ehaas/Documents/FHIR/US-Core/input/intro-notes/StructureDefinition-us-core-documentreference-intro.md\n",
      "Restored /Users/ehaas/Documents/FHIR/US-Core/input/intro-notes/StructureDefinition-us-core-body-temperature-intro.md\n",
      "Restored /Users/ehaas/Documents/FHIR/US-Core/input/intro-notes/StructureDefinition-us-core-bmi-notes.md\n",
      "Restored /Users/ehaas/Documents/FHIR/US-Core/input/intro-notes/StructureDefinition-us-core-specimen-intro.md\n",
      "Restored /Users/ehaas/Documents/FHIR/US-Core/input/intro-notes/StructureDefinition-us-core-procedure-notes.md\n",
      "Restored /Users/ehaas/Documents/FHIR/US-Core/input/intro-notes/StructureDefinition-us-core-observation-screening-assessment-intro.md\n",
      "Restored /Users/ehaas/Documents/FHIR/US-Core/input/intro-notes/StructureDefinition-us-core-medicationrequest-notes.md\n",
      "Restored /Users/ehaas/Documents/FHIR/US-Core/input/intro-notes/StructureDefinition-us-core-adi-documentreference-notes.md\n",
      "Restored /Users/ehaas/Documents/FHIR/US-Core/input/intro-notes/StructureDefinition-pediatric-weight-for-height-notes.md\n",
      "Restored /Users/ehaas/Documents/FHIR/US-Core/input/intro-notes/StructureDefinition-us-core-coverage-intro.md\n",
      "Restored /Users/ehaas/Documents/FHIR/US-Core/input/intro-notes/StructureDefinition-us-core-pulse-oximetry-notes.md\n",
      "Restored /Users/ehaas/Documents/FHIR/US-Core/input/intro-notes/StructureDefinition-head-occipital-frontal-circumference-percentile-intro.md\n",
      "Restored /Users/ehaas/Documents/FHIR/US-Core/input/intro-notes/StructureDefinition-us-core-condition-encounter-diagnosis-intro.md\n",
      "Restored /Users/ehaas/Documents/FHIR/US-Core/input/intro-notes/StructureDefinition-us-core-observation-lab-intro.md\n",
      "Restored /Users/ehaas/Documents/FHIR/US-Core/input/intro-notes/StructureDefinition-us-core-observation-pregnancyintent-notes.md\n",
      "Restored /Users/ehaas/Documents/FHIR/US-Core/input/intro-notes/Observation-cbc-erythrocytes-intro.md\n",
      "Restored /Users/ehaas/Documents/FHIR/US-Core/input/intro-notes/Observation-serum-co2-intro.md\n",
      "Restored /Users/ehaas/Documents/FHIR/US-Core/input/intro-notes/ValueSet-us-core-location-type-intro.md\n",
      "Restored /Users/ehaas/Documents/FHIR/US-Core/input/intro-notes/StructureDefinition-us-core-practitioner-intro.md\n",
      "Restored /Users/ehaas/Documents/FHIR/US-Core/input/intro-notes/StructureDefinition-us-core-medication-intro.md\n",
      "Restored /Users/ehaas/Documents/FHIR/US-Core/input/intro-notes/StructureDefinition-us-core-medicationdispense-intro.md\n",
      "Restored /Users/ehaas/Documents/FHIR/US-Core/input/intro-notes/StructureDefinition-us-core-immunization-notes.md\n",
      "Restored /Users/ehaas/Documents/FHIR/US-Core/input/intro-notes/StructureDefinition-us-core-goal-notes.md\n",
      "Restored /Users/ehaas/Documents/FHIR/US-Core/input/intro-notes/StructureDefinition-us-core-servicerequest-notes.md\n",
      "Restored /Users/ehaas/Documents/FHIR/US-Core/input/intro-notes/StructureDefinition-us-core-provenance-notes.md\n",
      "Restored /Users/ehaas/Documents/FHIR/US-Core/input/intro-notes/StructureDefinition-us-core-treatment-intervention-preference-notes.md\n",
      "Restored /Users/ehaas/Documents/FHIR/US-Core/input/intro-notes/StructureDefinition-us-core-practitionerrole-intro.md\n",
      "Restored /Users/ehaas/Documents/FHIR/US-Core/input/intro-notes/StructureDefinition-us-core-average-blood-pressure-notes.md\n",
      "Restored /Users/ehaas/Documents/FHIR/US-Core/input/intro-notes/StructureDefinition-us-core-condition-problems-health-concerns-notes.md\n",
      "Restored /Users/ehaas/Documents/FHIR/US-Core/input/intro-notes/Observation-serum-potassium-intro.md\n",
      "Restored /Users/ehaas/Documents/FHIR/US-Core/input/intro-notes/StructureDefinition-us-core-encounter-intro.md\n",
      "Restored /Users/ehaas/Documents/FHIR/US-Core/input/intro-notes/StructureDefinition-us-core-body-weight-intro.md\n",
      "Restored /Users/ehaas/Documents/FHIR/US-Core/input/intro-notes/StructureDefinition-us-core-observation-sexual-orientation-intro.md\n",
      "Restored /Users/ehaas/Documents/FHIR/US-Core/input/intro-notes/StructureDefinition-us-core-blood-pressure-notes.md\n",
      "Restored /Users/ehaas/Documents/FHIR/US-Core/input/intro-notes/ValueSet-simple-language-intro.md\n",
      "Restored /Users/ehaas/Documents/FHIR/US-Core/input/intro-notes/StructureDefinition-us-core-respiratory-rate-intro.md\n",
      "Restored /Users/ehaas/Documents/FHIR/US-Core/input/intro-notes/StructureDefinition-us-core-head-circumference-intro.md\n",
      "Restored /Users/ehaas/Documents/FHIR/US-Core/input/intro-notes/StructureDefinition-us-core-questionnaireresponse-intro.md\n",
      "Restored /Users/ehaas/Documents/FHIR/US-Core/input/intro-notes/StructureDefinition-pediatric-bmi-for-age-notes.md\n",
      "Restored /Users/ehaas/Documents/FHIR/US-Core/input/intro-notes/StructureDefinition-us-core-location-intro.md\n",
      "Restored /Users/ehaas/Documents/FHIR/US-Core/input/intro-notes/StructureDefinition-us-core-observation-clinical-result-notes.md\n",
      "Restored /Users/ehaas/Documents/FHIR/US-Core/input/intro-notes/ValueSet-us-core-pregnancy-intent-intro.md\n",
      "Restored /Users/ehaas/Documents/FHIR/US-Core/input/intro-notes/StructureDefinition-us-core-organization-intro.md\n",
      "Restored /Users/ehaas/Documents/FHIR/US-Core/input/intro-notes/StructureDefinition-us-core-relatedperson-notes.md\n",
      "Restored /Users/ehaas/Documents/FHIR/US-Core/input/intro-notes/StructureDefinition-us-core-diagnosticreport-lab-intro.md\n",
      "Restored /Users/ehaas/Documents/FHIR/US-Core/input/intro-notes/DiagnosticReport-cbc-intro.md\n",
      "Restored /Users/ehaas/Documents/FHIR/US-Core/input/intro-notes/StructureDefinition-us-core-body-height-intro.md\n",
      "Restored /Users/ehaas/Documents/FHIR/US-Core/input/intro-notes/Observation-serum-creatinine-intro.md\n",
      "Restored /Users/ehaas/Documents/FHIR/US-Core/input/intro-notes/StructureDefinition-us-core-patient-notes.md\n",
      "Restored /Users/ehaas/Documents/FHIR/US-Core/input/intro-notes/StructureDefinition-us-core-careplan-notes.md\n",
      "Restored /Users/ehaas/Documents/FHIR/US-Core/input/intro-notes/Observation-cbc-mcv-intro.md\n",
      "Restored /Users/ehaas/Documents/FHIR/US-Core/input/intro-notes/StructureDefinition-us-core-observation-pregnancystatus-intro.md\n",
      "Restored /Users/ehaas/Documents/FHIR/US-Core/input/intro-notes/StructureDefinition-us-core-allergyintolerance-intro.md\n",
      "Restored /Users/ehaas/Documents/FHIR/US-Core/input/intro-notes/StructureDefinition-us-core-heart-rate-notes.md\n",
      "Restored /Users/ehaas/Documents/FHIR/US-Core/input/intro-notes/StructureDefinition-us-core-implantable-device-intro.md\n",
      "Restored /Users/ehaas/Documents/FHIR/US-Core/input/intro-notes/StructureDefinition-us-core-observation-occupation-intro.md\n",
      "Restored /Users/ehaas/Documents/FHIR/US-Core/input/intro-notes/StructureDefinition-us-core-simple-observation-notes.md\n",
      "Restored /Users/ehaas/Documents/FHIR/US-Core/input/intro-notes/StructureDefinition-us-core-observation-adi-documentation-intro.md\n",
      "Restored /Users/ehaas/Documents/FHIR/US-Core/input/intro-notes/Observation-serum-chloride-intro.md\n",
      "Restored /Users/ehaas/Documents/FHIR/US-Core/input/intro-notes/Observation-cbc-mch-intro.md\n",
      "Restored /Users/ehaas/Documents/FHIR/US-Core/input/intro-notes/StructureDefinition-us-core-smokingstatus-notes.md\n",
      "Restored /Users/ehaas/Documents/FHIR/US-Core/input/intro-notes/StructureDefinition-us-core-care-experience-preference-intro.md\n",
      "Restored /Users/ehaas/Documents/FHIR/US-Core/input/intro-notes/StructureDefinition-us-core-careteam-intro.md\n",
      "Restored /Users/ehaas/Documents/FHIR/US-Core/input/intro-notes/Observation-cbc-platelets-intro.md\n",
      "Restored /Users/ehaas/Documents/FHIR/US-Core/input/intro-notes/StructureDefinition-us-core-diagnosticreport-note-intro.md\n",
      "Restored /Users/ehaas/Documents/FHIR/US-Core/input/intro-notes/StructureDefinition-us-core-birthsex-intro.md\n",
      "Restored /Users/ehaas/Documents/FHIR/US-Core/input/intro-notes/Observation-cbc-mchc-intro.md\n",
      "Restored /Users/ehaas/Documents/FHIR/US-Core/input/intro-notes/ValueSet-detailed-ethnicity-intro.md\n",
      "Restored /Users/ehaas/Documents/FHIR/US-Core/input/intro-notes/StructureDefinition-us-core-body-temperature-notes.md\n",
      "Restored /Users/ehaas/Documents/FHIR/US-Core/input/intro-notes/StructureDefinition-us-core-documentreference-notes.md\n",
      "Restored /Users/ehaas/Documents/FHIR/US-Core/input/intro-notes/StructureDefinition-us-core-tribal-affiliation-intro.md\n",
      "Restored /Users/ehaas/Documents/FHIR/US-Core/input/intro-notes/StructureDefinition-us-core-vital-signs-intro.md\n",
      "Restored /Users/ehaas/Documents/FHIR/US-Core/input/intro-notes/StructureDefinition-us-core-pulse-oximetry-intro.md\n",
      "Restored /Users/ehaas/Documents/FHIR/US-Core/input/intro-notes/StructureDefinition-us-core-condition-encounter-diagnosis-notes.md\n",
      "Restored /Users/ehaas/Documents/FHIR/US-Core/input/intro-notes/StructureDefinition-head-occipital-frontal-circumference-percentile-notes.md\n",
      "Restored /Users/ehaas/Documents/FHIR/US-Core/input/intro-notes/StructureDefinition-us-core-observation-lab-notes.md\n",
      "Restored /Users/ehaas/Documents/FHIR/US-Core/input/intro-notes/StructureDefinition-us-core-observation-pregnancyintent-intro.md\n",
      "Restored /Users/ehaas/Documents/FHIR/US-Core/input/intro-notes/Observation-cbc-leukocytes-intro.md\n",
      "Restored /Users/ehaas/Documents/FHIR/US-Core/input/intro-notes/StructureDefinition-us-core-specimen-notes.md\n",
      "Restored /Users/ehaas/Documents/FHIR/US-Core/input/intro-notes/StructureDefinition-us-core-bmi-intro.md\n",
      "Restored /Users/ehaas/Documents/FHIR/US-Core/input/intro-notes/StructureDefinition-us-core-medicationrequest-intro.md\n",
      "Restored /Users/ehaas/Documents/FHIR/US-Core/input/intro-notes/StructureDefinition-us-core-observation-screening-assessment-notes.md\n",
      "Restored /Users/ehaas/Documents/FHIR/US-Core/input/intro-notes/StructureDefinition-us-core-procedure-intro.md\n",
      "Restored /Users/ehaas/Documents/FHIR/US-Core/input/intro-notes/StructureDefinition-us-core-adi-documentreference-intro.md\n",
      "Restored /Users/ehaas/Documents/FHIR/US-Core/input/intro-notes/StructureDefinition-us-core-ethnicity-intro.md\n",
      "Restored /Users/ehaas/Documents/FHIR/US-Core/input/intro-notes/StructureDefinition-us-core-coverage-notes.md\n",
      "Restored /Users/ehaas/Documents/FHIR/US-Core/input/intro-notes/StructureDefinition-pediatric-weight-for-height-intro.md\n",
      "Restored /Users/ehaas/Documents/FHIR/US-Core/input/intro-notes/StructureDefinition-us-core-medication-notes.md\n",
      "Restored /Users/ehaas/Documents/FHIR/US-Core/input/intro-notes/StructureDefinition-us-core-practitioner-notes.md\n",
      "Restored /Users/ehaas/Documents/FHIR/US-Core/input/intro-notes/StructureDefinition-us-core-medicationdispense-notes.md\n",
      "Restored /Users/ehaas/Documents/FHIR/US-Core/input/intro-notes/StructureDefinition-us-core-encounter-notes.md\n",
      "Restored /Users/ehaas/Documents/FHIR/US-Core/input/intro-notes/StructureDefinition-us-core-body-weight-notes.md\n",
      "Restored /Users/ehaas/Documents/FHIR/US-Core/input/intro-notes/StructureDefinition-us-core-goal-intro.md\n",
      "Restored /Users/ehaas/Documents/FHIR/US-Core/input/intro-notes/StructureDefinition-us-core-immunization-intro.md\n",
      "Restored /Users/ehaas/Documents/FHIR/US-Core/input/intro-notes/StructureDefinition-us-core-servicerequest-intro.md\n",
      "Restored /Users/ehaas/Documents/FHIR/US-Core/input/intro-notes/Observation-serum-bun-intro.md\n",
      "Restored /Users/ehaas/Documents/FHIR/US-Core/input/intro-notes/ValueSet-detailed-race-intro.md\n",
      "Restored /Users/ehaas/Documents/FHIR/US-Core/input/intro-notes/StructureDefinition-us-core-practitionerrole-notes.md\n",
      "Restored /Users/ehaas/Documents/FHIR/US-Core/input/intro-notes/StructureDefinition-us-core-provenance-intro.md\n",
      "Restored /Users/ehaas/Documents/FHIR/US-Core/input/intro-notes/StructureDefinition-us-core-treatment-intervention-preference-intro.md\n",
      "Restored /Users/ehaas/Documents/FHIR/US-Core/input/intro-notes/Observation-serum-glucose-intro.md\n",
      "Restored /Users/ehaas/Documents/FHIR/US-Core/input/intro-notes/ValueSet-us-core-condition-code-intro.md\n",
      "Restored /Users/ehaas/Documents/FHIR/US-Core/input/intro-notes/StructureDefinition-us-core-average-blood-pressure-intro.md\n",
      "Restored /Users/ehaas/Documents/FHIR/US-Core/input/intro-notes/StructureDefinition-us-core-condition-problems-health-concerns-intro.md\n",
      "Restored /Users/ehaas/Documents/FHIR/US-Core/input/intro-notes/StructureDefinition-us-core-head-circumference-notes.md\n",
      "Restored /Users/ehaas/Documents/FHIR/US-Core/input/intro-notes/StructureDefinition-us-core-questionnaireresponse-notes.md\n",
      "Restored /Users/ehaas/Documents/FHIR/US-Core/input/intro-notes/StructureDefinition-us-core-sex-intro.md\n",
      "Restored /Users/ehaas/Documents/FHIR/US-Core/input/intro-notes/StructureDefinition-pediatric-bmi-for-age-intro.md\n",
      "Restored /Users/ehaas/Documents/FHIR/US-Core/input/intro-notes/Observation-serum-calcium-intro.md\n",
      "Restored /Users/ehaas/Documents/FHIR/US-Core/input/intro-notes/StructureDefinition-us-core-observation-sexual-orientation-notes.md\n",
      "Restored /Users/ehaas/Documents/FHIR/US-Core/input/intro-notes/StructureDefinition-us-core-blood-pressure-intro.md\n",
      "Restored /Users/ehaas/Documents/FHIR/US-Core/input/intro-notes/StructureDefinition-us-core-respiratory-rate-notes.md\n",
      "Restored /Users/ehaas/Documents/FHIR/US-Core/input/intro-notes/StructureDefinition-us-core-medication-adherence-intro.md\n",
      "Restored /Users/ehaas/Documents/FHIR/US-Core/input/intro-notes/StructureDefinition-us-core-relatedperson-intro.md\n",
      "Restored /Users/ehaas/Documents/FHIR/US-Core/input/intro-notes/StructureDefinition-us-core-organization-notes.md\n",
      "Restored /Users/ehaas/Documents/FHIR/US-Core/input/intro-notes/StructureDefinition-us-core-diagnosticreport-lab-notes.md\n",
      "Restored /Users/ehaas/Documents/FHIR/US-Core/input/intro-notes/StructureDefinition-us-core-body-height-notes.md\n",
      "Restored /Users/ehaas/Documents/FHIR/US-Core/input/intro-notes/StructureDefinition-us-core-careplan-intro.md\n",
      "Restored /Users/ehaas/Documents/FHIR/US-Core/input/intro-notes/DiagnosticReport-metabolic-panel-intro.md\n",
      "Restored /Users/ehaas/Documents/FHIR/US-Core/input/intro-notes/StructureDefinition-us-core-patient-intro.md\n",
      "Restored /Users/ehaas/Documents/FHIR/US-Core/input/intro-notes/StructureDefinition-us-core-observation-clinical-result-intro.md\n",
      "Restored /Users/ehaas/Documents/FHIR/US-Core/input/intro-notes/StructureDefinition-us-core-location-notes.md\n",
      "Restored /Users/ehaas/Documents/FHIR/US-Core/input/intro-notes/StructureDefinition-us-core-care-experience-preference-notes.md\n",
      "Restored /Users/ehaas/Documents/FHIR/US-Core/input/intro-notes/StructureDefinition-us-core-smokingstatus-intro.md\n",
      "Restored /Users/ehaas/Documents/FHIR/US-Core/input/intro-notes/StructureDefinition-us-core-careteam-notes.md\n",
      "Restored /Users/ehaas/Documents/FHIR/US-Core/input/intro-notes/StructureDefinition-us-core-implantable-device-notes.md\n",
      "Restored /Users/ehaas/Documents/FHIR/US-Core/input/intro-notes/StructureDefinition-us-core-allergyintolerance-notes.md\n",
      "Restored /Users/ehaas/Documents/FHIR/US-Core/input/intro-notes/StructureDefinition-us-core-observation-pregnancystatus-notes.md\n",
      "Restored /Users/ehaas/Documents/FHIR/US-Core/input/intro-notes/StructureDefinition-us-core-heart-rate-intro.md\n",
      "Restored /Users/ehaas/Documents/FHIR/US-Core/input/intro-notes/StructureDefinition-us-core-observation-adi-documentation-notes.md\n",
      "Restored /Users/ehaas/Documents/FHIR/US-Core/input/intro-notes/StructureDefinition-us-core-observation-occupation-notes.md\n",
      "Restored /Users/ehaas/Documents/FHIR/US-Core/input/intro-notes/StructureDefinition-us-core-simple-observation-intro.md\n",
      "Restored /Users/ehaas/Documents/FHIR/US-Core/input/intro-notes/Observation-cbc-hematocrit-intro.md\n",
      "Restored /Users/ehaas/Documents/FHIR/US-Core/input/intro-notes/Observation-cbc-hemoglobin-intro.md\n",
      "Restored /Users/ehaas/Documents/FHIR/US-Core/input/intro-notes/StructureDefinition-us-core-diagnosticreport-note-notes.md\n",
      "Restored /Users/ehaas/Documents/FHIR/US-Core/input/intro-notes/Observation-serum-sodium-intro.md\n"
     ]
    }
   ],
   "source": [
    "if restore:  ## Undo the grey out\n",
    "  # Iterate through all Markdown files in the directory\n",
    "  for file_path in directory.glob(\"*.md\"):\n",
    "      # Read the modified content\n",
    "      content = file_path.read_text(encoding=\"utf-8\")\n",
    "      \n",
    "      # Check if the file contains the style and div to remove\n",
    "      if style_content in content and style_end in content:\n",
    "          # Remove the style and opening div\n",
    "          new_content = content.replace(style_content, \"\")\n",
    "          # Remove the closing div\n",
    "          new_content = new_content.replace(style_end, \"\")\n",
    "\n",
    "        # Write the restored content back to the file\n",
    "          file_path.write_text(new_content, encoding=\"utf-8\")\n",
    "          print(f\"Restored {file_path}\")\n",
    "      else:\n",
    "          print(f\"Skipped {file_path} (no grayed-out style found)\")\n",
    "else:\n",
    "  for file_path in directory.glob(\"*.md\"):\n",
    "      # Read the original content\n",
    "      with file_path.open(\"r\", encoding=\"utf-8\") as file:\n",
    "          content = file.read()\n",
    "      \n",
    "      # Check if the file already contains the style to avoid duplication\n",
    "      if \".grayed-out\" not in content:\n",
    "          # Wrap the content (after front matter, if any) with the style and div\n",
    "          if content.startswith(\"---\"):\n",
    "              # Find the end of the front matter\n",
    "              front_matter_end = content.find(\"---\", 3) + 3\n",
    "              if front_matter_end > 3:\n",
    "                  new_content = (\n",
    "                      content[:front_matter_end] + \"\\n\" +\n",
    "                      style_content + content[front_matter_end:].lstrip() + \"\\n</div>\"\n",
    "                  )\n",
    "              else:\n",
    "                  # No valid front matter, prepend style and wrap all content\n",
    "                  new_content = f\"{style_content}{content}{style_end}\"\n",
    "          else:\n",
    "              # No front matter, prepend style and wrap all content\n",
    "              new_content =f\"{style_content}{content}{style_end}\"\n",
    "\n",
    "          # Write the modified content back to the file\n",
    "          with file_path.open(\"w\", encoding=\"utf-8\") as file:\n",
    "              file.write(new_content)\n",
    "          print(f\"Updated {file_path}\")\n",
    "      else:\n",
    "          print(f\"Skipped {file_path} (already contains grayed-out style)\")"
   ]
  }
 ],
 "metadata": {
  "kernelspec": {
   "display_name": "jupyter",
   "language": "python",
   "name": "python3"
  },
  "language_info": {
   "codemirror_mode": {
    "name": "ipython",
    "version": 3
   },
   "file_extension": ".py",
   "mimetype": "text/x-python",
   "name": "python",
   "nbconvert_exporter": "python",
   "pygments_lexer": "ipython3",
   "version": "3.10.2"
  }
 },
 "nbformat": 4,
 "nbformat_minor": 5
}
