{
 "cells": [
  {
   "cell_type": "markdown",
   "id": "7c48b482",
   "metadata": {},
   "source": [
    "# R4-R6 US Core Mapping Templates\n",
    "\n",
    "r4-r6-us-core-mapping-templates.ipynb\n",
    "\n",
    "A set of US Core Profile Mapping template for converting from FHIR R4 to FHIR R6.  These template are used by the [FHIRPathMappingLanguage](https://github.com/beda-software/FHIRPathMappingLanguage)\n",
    "a data DSL designed to convert data from any source to any FHIR Resource.  The templates consist of Python dictionaries that leverage liquid template and FHIRPath syntax to generate the mappings. "
   ]
  },
  {
   "cell_type": "code",
   "execution_count": 2,
   "id": "268cab1f",
   "metadata": {},
   "outputs": [],
   "source": [
    "import json\n",
    "templates = {'AllergyIntolerance':'''\n",
    "{\n",
    "  \"resourceType\": \"AllergyIntolerance\",\n",
    "  \"id\": \"{{ AllergyIntolerance.id }}\",\n",
    "  \"meta\": {\n",
    "    \"extension\" : \"{[ AllergyIntolerance.meta.extension ]}\",\n",
    "    \"versionId\": \"{{ AllergyIntolerance.meta.versionId }}\",\n",
    "    \"lastUpdated\": \"{{ AllergyIntolerance.meta.lastUpdated }}\",\n",
    "    \"source\": \"{{ AllergyIntolerance.meta.source }}\",\n",
    "    \"profile\": \"{[ AllergyIntolerance.meta.profile ]}\",\n",
    "    \"security\": \"{[ AllergyIntolerance.meta.security ]}\",\n",
    "    \"tag\": \"{[ AllergyIntolerance.meta.tag ]}\"\n",
    "  },\n",
    "  \"extension\" : \"{[ AllergyIntolerance.extension ]}\",\n",
    "  \"identifier\": \"{[ AllergyIntolerance.identifier ]}\",\n",
    "  \"clinicalStatus\": \"{{ AllergyIntolerance.clinicalStatus }}\",\n",
    "  \"verificationStatus\": \"{{ AllergyIntolerance.verificationStatus }}\",\n",
    "  \"type\": \"{{ AllergyIntolerance.type }}\",\n",
    "  \"category\": \"{[ AllergyIntolerance.category ]}\",\n",
    "  \"criticality\": \"{{ AllergyIntolerance.criticality }}\",\n",
    "  \"code\": \"{{ AllergyIntolerance.code }}\",\n",
    "  \"patient\": \"{{ AllergyIntolerance.patient }}\",\n",
    "  \"encounter\": \"{{ AllergyIntolerance.encounter }}\",\n",
    "  \"onsetDateTime\": \"{{ AllergyIntolerance.onsetDateTime }}\",\n",
    "  \"onsetAge\": \"{{ AllergyIntolerance.onsetAge }}\",\n",
    "  \"onsetPeriod\": \"{{ AllergyIntolerance.onsetPeriod }}\",\n",
    "  \"onsetRange\": \"{{ AllergyIntolerance.onsetRange }}\",\n",
    "  \"onsetString\": \"{{ AllergyIntolerance.onsetString }}\",\n",
    "  \"recordedDate\": \"{{ AllergyIntolerance.recordedDate }}\",\n",
    "  \"recorder\": \"{{ AllergyIntolerance.recorder }}\",\n",
    "  \"asserter\": \"{{ AllergyIntolerance.asserter }}\",\n",
    "  \"lastOccurrence\": \"{{ AllergyIntolerance.lastOccurrence }}\",\n",
    "  \"note\": \"{[ AllergyIntolerance.note ]}\",\n",
    "  \"reaction\": [\n",
    "    {\n",
    "      \"substance\": \"{{ AllergyIntolerance.reaction.substance }}\",\n",
    "      \"manifestation\": [\n",
    "      {\n",
    "      \"{% for manifestation in AllergyIntolerance.reaction.manifestation %}\": {\n",
    "        \"concept\": \"{{ %manifestation }}\"\n",
    "         }\n",
    "       }\n",
    "      ],\n",
    "      \"description\": \"{{ AllergyIntolerance.reaction.description }}\",\n",
    "      \"onset\": \"{{ AllergyIntolerance.reaction.onset }}\",\n",
    "      \"severity\": \"{{ AllergyIntolerance.reaction.severity }}\",\n",
    "      \"exposureRoute\": \"{{ AllergyIntolerance.reaction.exposureRoute }}\",\n",
    "      \"note\": \"{[ AllergyIntolerance.reaction.note ]}\"\n",
    "    }\n",
    "  ]\n",
    "}\n",
    "''',\n",
    "}\n"
   ]
  },
  {
   "cell_type": "code",
   "execution_count": 3,
   "id": "90fcaeb9",
   "metadata": {},
   "outputs": [
    {
     "name": "stdout",
     "output_type": "stream",
     "text": [
      "This runs when the script is executed directly.\n",
      "Template = AllergyIntolerance\n"
     ]
    }
   ],
   "source": [
    "def main():\n",
    "    print(\"This runs when the script is executed directly.\")\n",
    "    for i in list(templates.keys()):\n",
    "      print(f\"Template = {i}\")\n",
    "\n",
    "if __name__ == \"__main__\":\n",
    "    main()"
   ]
  }
 ],
 "metadata": {
  "kernelspec": {
   "display_name": "fhirmapper",
   "language": "python",
   "name": "python3"
  },
  "language_info": {
   "codemirror_mode": {
    "name": "ipython",
    "version": 3
   },
   "file_extension": ".py",
   "mimetype": "text/x-python",
   "name": "python",
   "nbconvert_exporter": "python",
   "pygments_lexer": "ipython3",
   "version": "3.10.2"
  }
 },
 "nbformat": 4,
 "nbformat_minor": 5
}
