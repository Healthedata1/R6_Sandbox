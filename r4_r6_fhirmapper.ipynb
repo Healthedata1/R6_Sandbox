{
 "cells": [
  {
   "cell_type": "code",
   "execution_count": 5,
   "id": "15c6a830",
   "metadata": {},
   "outputs": [
    {
     "name": "stdout",
     "output_type": "stream",
     "text": [
      "/Users/ehaas/Documents/FHIR/R6_Sandbox/uscore-v8-examples-yaml\n"
     ]
    }
   ],
   "source": [
    "from fpml import resolve_template\n",
    "from r4_r6_us_core_mapping_templates import templates\n",
    "import json\n",
    "from pathlib import Path\n",
    "from git import Repo\n",
    "import yaml\n",
    "\n",
    "#===Globals===\n",
    "repo_path = '/Users/ehaas/Documents/FHIR/US-Core'\n",
    "target_branch = 'R6_prototype'\n",
    "examples_yaml_path = Path(r'/Users/ehaas/Documents/FHIR/R6_Sandbox/uscore-v8-examples-yaml')\n",
    "save_to_file = True\n",
    "# save_to_file = False\n",
    "\n",
    "print(examples_yaml_path)"
   ]
  },
  {
   "cell_type": "markdown",
   "id": "c80f613a",
   "metadata": {},
   "source": [
    "### Write File to US Core R6 build for profile validation\n",
    "\n",
    "- write to the R6 prototype build.\n",
    "  - Check the Current US Core Branch\n",
    "  - If not the Current Branch print notice"
   ]
  },
  {
   "cell_type": "code",
   "execution_count": 6,
   "id": "5e6a6b99",
   "metadata": {},
   "outputs": [],
   "source": [
    "def write_to_repo(json_obj,file_name):\n",
    "  repo = Repo(repo_path)\n",
    "  # Get the current branch name\n",
    "  current_branch = repo.active_branch.name\n",
    "  print(f\"Current branch: {current_branch}\")\n",
    "  if current_branch == target_branch:\n",
    "    file_path = Path(repo_path) / 'input' / 'examples-yaml' / file_name\n",
    "    print(f'writing to US Core {file_path}...')\n",
    "    file_path.write_text(yaml.dump(json_obj, indent=2, sort_keys=False))\n",
    "  else:\n",
    "    print(f\"Not on US Core's target branch '{target_branch}'\")"
   ]
  },
  {
   "cell_type": "markdown",
   "id": "3f69ab93",
   "metadata": {},
   "source": [
    "### Scrub empty dicts and lists from mapped example"
   ]
  },
  {
   "cell_type": "code",
   "execution_count": 7,
   "id": "cbbe9c54",
   "metadata": {},
   "outputs": [],
   "source": [
    "def remove_empty_lists_and_dicts(d):\n",
    "    if not isinstance(d, dict):\n",
    "        return d\n",
    "    result = {}\n",
    "    for k, v in d.items():\n",
    "        if isinstance(v, dict):\n",
    "            # Recursively process nested dictionaries\n",
    "            v = remove_empty_lists_and_dicts(v)\n",
    "            # Only include if the processed dictionary is not empty\n",
    "            if v:\n",
    "                result[k] = v\n",
    "        elif isinstance(v, list) and all(isinstance(i, dict) for i in v):\n",
    "            # Process lists of dictionaries\n",
    "            v = [remove_empty_lists_and_dicts(i) for i in v]\n",
    "            # Only include non-empty dictionaries from the list\n",
    "            v = [i for i in v if i]\n",
    "            # Only include the list if it's not empty\n",
    "            if v:\n",
    "                result[k] = v\n",
    "        elif not (isinstance(v, list) and len(v) == 0):\n",
    "            # Include non-empty lists and other non-empty values\n",
    "            result[k] = v\n",
    "    return result\n"
   ]
  },
  {
   "cell_type": "markdown",
   "id": "b2563b3a",
   "metadata": {},
   "source": [
    "### Fetch US Core examples\n",
    "- Fetch US Core V8 examples\n",
    "  -  downloaded from the master GitHub repro source YAML files to preserve the titles and descriptions\n",
    "- If template for type is available then convert to R6 using the FHIRPathMapper Module\n",
    "  - templates is dict with type as key to enable fetching examples by type\n",
    "  -  TODO: Consider update to fetch templates by profile\n",
    "     - evaluate how those profiles would be different and whether validation is enough or custom templating would be better"
   ]
  },
  {
   "cell_type": "code",
   "execution_count": 8,
   "id": "050d7412",
   "metadata": {},
   "outputs": [
    {
     "name": "stdout",
     "output_type": "stream",
     "text": [
      "======= R6 patient-deceased-example.yml, Type = Patient ========\n",
      "Current branch: R6_prototype\n",
      "writing to US Core /Users/ehaas/Documents/FHIR/US-Core/input/examples-yaml/patient-deceased-example.yml...\n",
      "======= R6 condition-encounter-diagnosis-example1.yml, Type = Condition ========\n",
      "Current branch: R6_prototype\n",
      "writing to US Core /Users/ehaas/Documents/FHIR/US-Core/input/examples-yaml/condition-encounter-diagnosis-example1.yml...\n",
      "======= R6 patient-child-example.yml, Type = Patient ========\n",
      "Current branch: R6_prototype\n",
      "writing to US Core /Users/ehaas/Documents/FHIR/US-Core/input/examples-yaml/patient-child-example.yml...\n",
      "======= R6 condition-encounter-diagnosis-example2.yml, Type = Condition ========\n",
      "Current branch: R6_prototype\n",
      "writing to US Core /Users/ehaas/Documents/FHIR/US-Core/input/examples-yaml/condition-encounter-diagnosis-example2.yml...\n",
      "======= R6 patient-example.yml, Type = Patient ========\n",
      "Current branch: R6_prototype\n",
      "writing to US Core /Users/ehaas/Documents/FHIR/US-Core/input/examples-yaml/patient-example.yml...\n",
      "======= R6 health-concern-example.yml, Type = Condition ========\n",
      "Current branch: R6_prototype\n",
      "writing to US Core /Users/ehaas/Documents/FHIR/US-Core/input/examples-yaml/health-concern-example.yml...\n",
      "======= R6 allergyintolerance-example.yml, Type = AllergyIntolerance ========\n",
      "Current branch: R6_prototype\n",
      "writing to US Core /Users/ehaas/Documents/FHIR/US-Core/input/examples-yaml/allergyintolerance-example.yml...\n",
      "======= R6 patient-infant-example.yml, Type = Patient ========\n",
      "Current branch: R6_prototype\n",
      "writing to US Core /Users/ehaas/Documents/FHIR/US-Core/input/examples-yaml/patient-infant-example.yml...\n",
      "======= R6 allergyintolerance-non-pharmacologic-agent-example.yml, Type = AllergyIntolerance ========\n",
      "Current branch: R6_prototype\n",
      "writing to US Core /Users/ehaas/Documents/FHIR/US-Core/input/examples-yaml/allergyintolerance-non-pharmacologic-agent-example.yml...\n",
      "======= R6 condition-SDOH-example.yml, Type = Condition ========\n",
      "Current branch: R6_prototype\n",
      "writing to US Core /Users/ehaas/Documents/FHIR/US-Core/input/examples-yaml/condition-SDOH-example.yml...\n",
      "======= R6 condition-duodenal-ulcer.yml, Type = Condition ========\n",
      "Current branch: R6_prototype\n",
      "writing to US Core /Users/ehaas/Documents/FHIR/US-Core/input/examples-yaml/condition-duodenal-ulcer.yml...\n"
     ]
    }
   ],
   "source": [
    "\n",
    "for uscore_example in examples_yaml_path.glob(\"*.yml\"):\n",
    "    json_obj = yaml.load(uscore_example.read_text(), Loader=yaml.SafeLoader)\n",
    "    try:\n",
    "      resource_type = json_obj['resourceType']\n",
    "    except KeyError:\n",
    "      resource_type = None\n",
    "    # print(uscore_example.name, resource_type)\n",
    "    try:\n",
    "      r6_template = (templates[resource_type])\n",
    "      # print(type(r6_template))\n",
    "      R6_mapping = resolve_template(json_obj, r6_template)\n",
    "    except KeyError:\n",
    "        # print(\"============== NO TEMPLATE FOUND==============\")\n",
    "        pass\n",
    "    else:\n",
    "      scrubbed_R6_mapping = remove_empty_lists_and_dicts(R6_mapping)\n",
    "      print(f\"======= R6 {uscore_example.name}, Type = {resource_type} ========\")\n",
    "      if save_to_file:\n",
    "         write_to_repo(scrubbed_R6_mapping,uscore_example.name)\n",
    "      else:\n",
    "        # print(json.dumps(scrubbed_R6_mapping, indent=2))\n",
    "        # print('============= YAML ================')\n",
    "        print(yaml.dump(scrubbed_R6_mapping, indent=2, sort_keys=False))\n",
    "         "
   ]
  }
 ],
 "metadata": {
  "kernelspec": {
   "display_name": "fhirmapper",
   "language": "python",
   "name": "python3"
  },
  "language_info": {
   "codemirror_mode": {
    "name": "ipython",
    "version": 3
   },
   "file_extension": ".py",
   "mimetype": "text/x-python",
   "name": "python",
   "nbconvert_exporter": "python",
   "pygments_lexer": "ipython3",
   "version": "3.10.2"
  }
 },
 "nbformat": 4,
 "nbformat_minor": 5
}
